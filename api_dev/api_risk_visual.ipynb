{
 "cells": [
  {
   "cell_type": "markdown",
   "metadata": {},
   "source": [
    "````sh\n",
    " pip install requests ipykernel Pillow     \n",
    "````"
   ]
  },
  {
   "cell_type": "code",
   "execution_count": null,
   "metadata": {},
   "outputs": [],
   "source": [
    "# CONFIG\n",
    "\n",
    "__longitude__ = 9.37477\n",
    "__latitude__ = 47.42391\n",
    "__plant__ = 'Wheat'\n",
    "\n",
    "import risks\n",
    "import img_generation\n",
    "import supporting"
   ]
  },
  {
   "cell_type": "code",
   "execution_count": null,
   "metadata": {},
   "outputs": [],
   "source": [
    "# Calculate stresses and risks\n",
    "risks_bool, _ = supporting.create_risk_report({'longitude': __longitude__, 'latitude': __latitude__, 'plant': __plant__})\n",
    "print(risks_bool)"
   ]
  },
  {
   "cell_type": "code",
   "execution_count": null,
   "metadata": {},
   "outputs": [],
   "source": [
    "# risks_bool={'diurnal_stress': 1, 'nighttime_stress': 1, 'frost_stress': 1, 'drought_risk': 1, 'yield_risk': 1} # test\n",
    "\n",
    "elements = [\n",
    "    {\n",
    "        \"header\": \"Elevated Temperature Alert!\",\n",
    "        \"body\": \"Hey there! It looks like the maximum temperature is set to rise. To keep your crops happy and healthy, I highly recommend applying Stress Buster. It’s your best friend in tackling heat stress and ensuring your plants thrive!\",\n",
    "        \"type\": \"warning\",\n",
    "        \"icon\": \"Icons/temperature-arrow-up-solid.png\",\n",
    "        \"status\": (risks_bool['diurnal_stress'] | risks_bool[\"nighttime_stress\"])\n",
    "    },\n",
    "    {\n",
    "        \"header\": \"Low Moisture Warning!\",\n",
    "        \"body\": \"Heads up! A drought is on the horizon. Don’t let your crops suffer—apply Stress Buster to keep them hydrated and flourishing. Your plants will thank you for it!\",\n",
    "        \"type\": \"warning\",\n",
    "        \"icon\": \"Icons/sun-plant-wilt-solid.png\",\n",
    "        \"status\": risks_bool[\"drought_risk\"]\n",
    "    },\n",
    "    {\n",
    "        \"header\": \"Frost Warning!\",\n",
    "        \"body\": \"Brrr! Frost is expected in the coming days. Protect your precious crops by applying Stress Buster. It’s the perfect shield to ensure they stay safe and sound during chilly nights!\",\n",
    "        \"type\": \"warning\",\n",
    "        \"icon\": \"Icons/snowflake-regular.png\",\n",
    "        \"status\": risks_bool[\"frost_stress\"]\n",
    "    },\n",
    "    {\n",
    "        \"header\": \"Yield Risk Alert!\",\n",
    "        \"body\": \"Uh-oh! Based on the latest data, your yield might be at risk of falling short. Don’t worry—apply Yield Booster to give your crops the extra boost they need for a bountiful harvest. Let’s make sure you get the best out of your fields!\",\n",
    "        \"type\": \"warning\",\n",
    "        \"icon\": \"Icons/arrow-down-wide-short-solid.png\",\n",
    "        \"status\": risks_bool[\"yield_risk\"]\n",
    "    }\n",
    "]\n",
    "city_name = risks.get_city_name(__longitude__, __latitude__)\n",
    "\n",
    "img = img_generation.generate(elements, __plant__, city_name)\n",
    "img.show()"
   ]
  }
 ],
 "metadata": {
  "kernelspec": {
   "display_name": "venv_cehub",
   "language": "python",
   "name": "python3"
  },
  "language_info": {
   "codemirror_mode": {
    "name": "ipython",
    "version": 3
   },
   "file_extension": ".py",
   "mimetype": "text/x-python",
   "name": "python",
   "nbconvert_exporter": "python",
   "pygments_lexer": "ipython3",
   "version": "3.13.2"
  }
 },
 "nbformat": 4,
 "nbformat_minor": 2
}
