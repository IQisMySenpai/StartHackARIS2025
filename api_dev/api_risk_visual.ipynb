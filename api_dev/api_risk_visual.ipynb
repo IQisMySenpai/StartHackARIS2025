{
 "cells": [
  {
   "cell_type": "markdown",
   "metadata": {},
   "source": [
    "''''sh\n",
    " pip install requests ipykernel Pillow     \n",
    "''''"
   ]
  },
  {
   "cell_type": "code",
   "execution_count": null,
   "metadata": {},
   "outputs": [],
   "source": [
    "# CONFIG\n",
    "\n",
    "__longitude__ = 9.37477\n",
    "__latitude__ = 47.42391\n",
    "\n",
    "import risks\n",
    "import img_generation"
   ]
  },
  {
   "cell_type": "code",
   "execution_count": null,
   "metadata": {},
   "outputs": [
    {
     "name": "stdout",
     "output_type": "stream",
     "text": [
      "{'diurnal_stress': 0, 'nighttime_stress': 0, 'frost_stress': 0, 'drought_risk': 0, 'yield_risk': 3073493.6184212}\n",
      "{'diurnal_stress': 0, 'nighttime_stress': 0, 'frost_stress': 0, 'drought_risk': 0, 'yield_risk': 1}\n"
     ]
    }
   ],
   "source": [
    "# Example parameters from an API or other source\n",
    "forecast_type=risks.forecast_type_dict[\"Daily\"]\n",
    "longitude=__longitude__\n",
    "latitude=__latitude__\n",
    "measureLabel=[\n",
    "        \"TempAir_DailyMax (C)\",\n",
    "        \"TempAir_DailyMin (C)\",\n",
    "        \"TempAir_DailyAvg (C)\",\n",
    "        \"Precip_DailySum (mm)\",\n",
    "        \"Evapotranspiration_DailySum (mm)\",\n",
    "        \"Soilmoisture_0to10cm_DailyAvg (vol%)\",\n",
    "]\n",
    "start_date=\"2025-03-20\"\n",
    "end_date=\"2025-03-20\"\n",
    "\n",
    "weather_forecast = risks.get_weather_forecast(\n",
    "    forecast_type=forecast_type,\n",
    "    longitude=longitude, \n",
    "    latitude=latitude,\n",
    "    measureLabel=measureLabel,\n",
    "    start_date=start_date,\n",
    "    end_date=end_date\n",
    ")\n",
    "\n",
    "crop_name = 'Corn'\n",
    "TMAX = weather_forecast[\"TempAir_DailyMax (C)\"]  # Maximum temperature\n",
    "TMIN = weather_forecast[\"TempAir_DailyMin (C)\"]  # Minimum temperature\n",
    "TAVG = weather_forecast[\"TempAir_DailyAvg (C)\"]  # Average temperature\n",
    "P = weather_forecast[\"Precip_DailySum (mm)\"]     # Cumulative rainfall\n",
    "SM = weather_forecast[\"Soilmoisture_0to10cm_DailyAvg (vol%)\"]   # Soil moisture\n",
    "# GDD calculation is internal to the calculator\n",
    "E = 300    # Cumulative evaporation\n",
    "pH = 6.5   # Soil pH\n",
    "N = 0.02   # Available nitrogen\n",
    "\n",
    "# Create an instance of the calculator with the parameters\n",
    "calculator = risks.CropRisksCalculator(crop_name, TMAX, TMIN, TAVG, P, E, SM, pH, N)\n",
    "\n",
    "# Calculate stresses and risks\n",
    "risks, results = calculator.calculate(binarize=True)\n",
    "\n",
    "# Print results\n",
    "print(results)\n",
    "print(risks)"
   ]
  },
  {
   "cell_type": "code",
   "execution_count": null,
   "metadata": {},
   "outputs": [
    {
     "name": "stdout",
     "output_type": "stream",
     "text": [
      "Icons/temperature-arrow-up-solid.png\n",
      "Icons/sun-plant-wilt-solid.png\n",
      "Icons/snowflake-regular.png\n",
      "Icons/arrow-down-wide-short-solid.png\n"
     ]
    }
   ],
   "source": [
    "\n",
    "elements=[\n",
    "    {\"header\": \"Elevated temperature\", \"body\": \"The maximum temperature will be exceeded, I recommend applyig Stress Buster to ensure the well being of your crops.\", \"type\": \"warning\", \"icon\": \"Icons/temperature-arrow-up-solid.png\", \"status\":(risks['diurnal_stress']|risks[\"nighttime_stress\"])},\n",
    "    {\"header\": \"Low moisture\", \"body\": \"A drought is incoming, I recomend appling Stress buster to ensure the well being of your crops.\", \"type\": \"warning\", \"icon\": \"Icons/sun-plant-wilt-solid.png\",\"status\":risks[\"frost_stress\"]},\n",
    "    {\"header\": \"Frost Warning\", \"body\": \"Frost is expected in the coming days, I recommend applying Stress Buster to your crops to ensure their well being\", \"type\": \"warning\", \"icon\": \"Icons/snowflake-regular.png\",\"status\":risks[\"drought_risk\"]},\n",
    "    {\"header\": \"Yield Risk\", \"body\":\"Based on avilible data, your yield is at a risk of being lower that expected. Apply Yield Booster to your crops to ensure the best possible yield.\", \"type\": \"warning\", \"icon\": \"Icons/arrow-down-wide-short-solid.png\",\"status\":risks[\"yield_risk\"]}\n",
    "    ]\n",
    "city_name = risks.get_city_name(__longitude__, __latitude__)\n",
    "\n",
    "img = img_generation.generate(elements, crop_name, city_name)\n",
    "img.show()"
   ]
  }
 ],
 "metadata": {
  "kernelspec": {
   "display_name": "venv_cehub",
   "language": "python",
   "name": "python3"
  },
  "language_info": {
   "codemirror_mode": {
    "name": "ipython",
    "version": 3
   },
   "file_extension": ".py",
   "mimetype": "text/x-python",
   "name": "python",
   "nbconvert_exporter": "python",
   "pygments_lexer": "ipython3",
   "version": "3.13.2"
  }
 },
 "nbformat": 4,
 "nbformat_minor": 2
}
